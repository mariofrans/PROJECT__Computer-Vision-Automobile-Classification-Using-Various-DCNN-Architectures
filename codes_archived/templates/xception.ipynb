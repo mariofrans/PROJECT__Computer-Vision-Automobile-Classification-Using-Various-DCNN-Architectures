{
 "cells": [
  {
   "cell_type": "code",
   "execution_count": null,
   "metadata": {},
   "outputs": [],
   "source": [
    "import pandas as pd\n",
    "import numpy as np\n",
    "import seaborn as sns\n",
    "import matplotlib.pyplot as plt\n",
    "from sklearn.metrics import confusion_matrix, classification_report\n",
    "import tensorflow as tf\n",
    "from tensorflow import keras\n",
    "from tensorflow.keras.preprocessing.image import ImageDataGenerator\n",
    "from tensorflow.keras.layers import Input, Dense, Flatten\n",
    "from tensorflow.keras.models import Model\n",
    "from tensorflow.keras.applications import Xception\n",
    "\n",
    "import time\n",
    "start_time = time.time()"
   ]
  },
  {
   "cell_type": "code",
   "execution_count": null,
   "metadata": {},
   "outputs": [],
   "source": [
    "PATH_DATA_TRAIN = 'data/data-preprocessed/train'\n",
    "PATH_DATA_TEST = 'data/data-preprocessed/test'\n",
    "PATH_DATA_VALIDATION = 'data/data-preprocessed/validation'\n",
    "PATH_SAVED_MODEL = 'xception.h5'"
   ]
  },
  {
   "cell_type": "markdown",
   "metadata": {},
   "source": [
    "# Load Dataset As Generators"
   ]
  },
  {
   "cell_type": "code",
   "execution_count": null,
   "metadata": {},
   "outputs": [],
   "source": [
    "generator = ImageDataGenerator(rescale = 1./255.)\n",
    "\n",
    "target_size = (100, 100)\n",
    "batch_size = 32\n",
    "\n",
    "train_batches = generator.flow_from_directory(\n",
    "    PATH_DATA_TRAIN, class_mode='categorical', \n",
    "    batch_size=batch_size, target_size=target_size\n",
    ")\n",
    "\n",
    "validation_batches = generator.flow_from_directory(\n",
    "    PATH_DATA_VALIDATION, class_mode='categorical',  \n",
    "    batch_size=batch_size, target_size=target_size\n",
    ")\n",
    "\n",
    "test_batches = generator.flow_from_directory(\n",
    "    PATH_DATA_TEST, class_mode='categorical', shuffle=False, \n",
    "    batch_size=batch_size, target_size=target_size\n",
    ")"
   ]
  },
  {
   "cell_type": "code",
   "execution_count": null,
   "metadata": {},
   "outputs": [],
   "source": [
    "# preview data (batch size, width, height, colors)\n",
    "print('x_train shape:', train_batches[0][0].shape)\n",
    "print('x_validation shape:', validation_batches[0][0].shape)\n",
    "print('x_test shape:', test_batches[0][0].shape)\n",
    "print('y_train shape:', train_batches[0][1].shape)\n",
    "print('y_validation shape:', validation_batches[0][1].shape)\n",
    "print('y_test shape:', test_batches[0][1].shape)"
   ]
  },
  {
   "cell_type": "code",
   "execution_count": null,
   "metadata": {},
   "outputs": [],
   "source": [
    "# input & output shape\n",
    "input_shape = train_batches[0][0][0].shape\n",
    "output_shape = len(train_batches[0][1][0])\n",
    "\n",
    "# display input & output shape\n",
    "print('Input Shape:', input_shape)\n",
    "print('Output Shape:', output_shape)"
   ]
  },
  {
   "cell_type": "markdown",
   "metadata": {},
   "source": [
    "# Build & Compile Model"
   ]
  },
  {
   "cell_type": "code",
   "execution_count": null,
   "metadata": {},
   "outputs": [],
   "source": [
    "model = Xception(\n",
    "    input_shape=input_shape,\n",
    "    classes=output_shape,\n",
    "    weights=None,\n",
    "    classifier_activation='softmax'\n",
    ")\n",
    "\n",
    "model.compile(optimizer='adam', loss='categorical_crossentropy', metrics=['accuracy'])\n",
    "model.summary()"
   ]
  },
  {
   "cell_type": "code",
   "execution_count": null,
   "metadata": {},
   "outputs": [],
   "source": [
    "# model = Xception(\n",
    "#     input_shape=input_shape, \n",
    "#     weights=\"imagenet\", \n",
    "#     include_top=False, \n",
    "#     pooling='max'\n",
    "# )\n",
    "\n",
    "# for layer in model.layers:\n",
    "#     layer.trainable = False\n",
    "\n",
    "# i = Input(shape=input_shape)\n",
    "# x = model(i)\n",
    "# x = Flatten()(x)\n",
    "# x = Dense(output_shape, activation='softmax')(x)\n",
    "\n",
    "# model = Model(inputs=i, outputs=x)\n",
    "\n",
    "# model.compile(optimizer='adam', loss='categorical_crossentropy', metrics=['accuracy'])\n",
    "# model.summary()"
   ]
  },
  {
   "cell_type": "markdown",
   "metadata": {},
   "source": [
    "# Train Model"
   ]
  },
  {
   "cell_type": "code",
   "execution_count": null,
   "metadata": {},
   "outputs": [],
   "source": [
    "# train model\n",
    "r = model.fit(train_batches, validation_data=validation_batches, epochs=100)\n",
    "\n",
    "# save model\n",
    "model.save(PATH_SAVED_MODEL)\n",
    "\n",
    "# load model\n",
    "# model = load_model(PATH_SAVED_MODEL)"
   ]
  },
  {
   "cell_type": "markdown",
   "metadata": {},
   "source": [
    "# Evaluate Model's Training & Validation Results"
   ]
  },
  {
   "cell_type": "code",
   "execution_count": null,
   "metadata": {},
   "outputs": [],
   "source": [
    "plt.plot(r.history['loss'], label='loss')\n",
    "plt.plot(r.history['val_loss'], label='val_loss')\n",
    "plt.legend()"
   ]
  },
  {
   "cell_type": "code",
   "execution_count": null,
   "metadata": {},
   "outputs": [],
   "source": [
    "plt.plot(r.history['accuracy'], label='accuracy')\n",
    "plt.plot(r.history['val_accuracy'], label='val_accuracy')\n",
    "plt.legend()"
   ]
  },
  {
   "cell_type": "markdown",
   "metadata": {},
   "source": [
    "# Generate Predictions With Model"
   ]
  },
  {
   "cell_type": "code",
   "execution_count": null,
   "metadata": {},
   "outputs": [],
   "source": [
    "y_pred = model.predict(test_batches).argmax(axis=1)"
   ]
  },
  {
   "cell_type": "code",
   "execution_count": null,
   "metadata": {},
   "outputs": [],
   "source": [
    "model.evaluate(test_batches)"
   ]
  },
  {
   "cell_type": "markdown",
   "metadata": {},
   "source": [
    "# Evaluate Model's Prediction Results"
   ]
  },
  {
   "cell_type": "code",
   "execution_count": null,
   "metadata": {},
   "outputs": [],
   "source": [
    "# generate classification report\n",
    "class_labels = list(test_batches.class_indices.keys())\n",
    "report = classification_report(test_batches.classes, y_pred, target_names=class_labels, output_dict=True)\n",
    "df_classification_report = pd.DataFrame(report).transpose()\n",
    "df_classification_report"
   ]
  },
  {
   "cell_type": "code",
   "execution_count": null,
   "metadata": {},
   "outputs": [],
   "source": [
    "# compute confusion matrix\n",
    "matrix = confusion_matrix(test_batches.classes, y_pred)\n",
    "\n",
    "# normalize confusion matrix\n",
    "matrix = matrix.astype('float') / matrix.sum(axis=1)[:, np.newaxis]\n",
    "matrix = np.around(matrix, decimals=2)\n",
    "\n",
    "# generate confusion matrix heatmap\n",
    "plt.figure(figsize=(15, 10))\n",
    "sns.heatmap(matrix, annot=True, xticklabels=class_labels, yticklabels=class_labels)\n",
    "plt.ylabel('Test Values')\n",
    "plt.xlabel('Predicted Values')"
   ]
  },
  {
   "cell_type": "markdown",
   "metadata": {},
   "source": [
    "# Compute Execution Time"
   ]
  },
  {
   "cell_type": "code",
   "execution_count": null,
   "metadata": {},
   "outputs": [],
   "source": [
    "execution_time_s = round(time.time() - start_time, 2)\n",
    "execution_time_m = round(execution_time_s/60, 2)\n",
    "execution_time_h = round(execution_time_m/60, 2)\n",
    "\n",
    "print('Execution Time (Hours):', execution_time_h)\n",
    "print('Execution Time (Minutes):', execution_time_m)\n",
    "print('Execution Time (Seconds):', execution_time_s)"
   ]
  }
 ],
 "metadata": {
  "kernelspec": {
   "display_name": "Python 3.10.6 ('venv': venv)",
   "language": "python",
   "name": "python3"
  },
  "language_info": {
   "codemirror_mode": {
    "name": "ipython",
    "version": 3
   },
   "file_extension": ".py",
   "mimetype": "text/x-python",
   "name": "python",
   "nbconvert_exporter": "python",
   "pygments_lexer": "ipython3",
   "version": "3.10.6"
  },
  "orig_nbformat": 4,
  "vscode": {
   "interpreter": {
    "hash": "694c0f390dd87efdb4392941ec90266ad972450cf82fbbc422b41d8fe8189bcf"
   }
  }
 },
 "nbformat": 4,
 "nbformat_minor": 2
}
