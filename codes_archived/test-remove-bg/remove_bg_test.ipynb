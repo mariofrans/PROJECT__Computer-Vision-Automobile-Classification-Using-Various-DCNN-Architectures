{
 "cells": [
  {
   "cell_type": "code",
   "execution_count": 1,
   "metadata": {},
   "outputs": [
    {
     "name": "stderr",
     "output_type": "stream",
     "text": [
      "/Users/pintu/Desktop/Mario/Visual Studio/Projects/venv/lib/python3.10/site-packages/scipy/__init__.py:146: UserWarning: A NumPy version >=1.16.5 and <1.23.0 is required for this version of SciPy (detected version 1.23.3\n",
      "  warnings.warn(f\"A NumPy version >={np_minversion} and <{np_maxversion}\"\n"
     ]
    }
   ],
   "source": [
    "import os, io, math\n",
    "import pandas as pd\n",
    "from rembg.bg import remove\n",
    "import numpy as np\n",
    "from multiprocessing import Pool\n",
    "from PIL import Image, ImageFile\n",
    "ImageFile.LOAD_TRUNCATED_IMAGES = True"
   ]
  },
  {
   "cell_type": "code",
   "execution_count": 7,
   "metadata": {},
   "outputs": [],
   "source": [
    "input_image = 'input-image.jpg'\n",
    "output_image = 'output-image.jpg'\n",
    "\n",
    "# load image\n",
    "image = Image.open(input_image)\n",
    "\n",
    "# remove background\n",
    "with io.BytesIO() as buf:\n",
    "    image.save(buf, 'jpeg')\n",
    "    image = buf.getvalue()\n",
    "    image = remove(image)\n",
    "\n",
    "# convert into icon\n",
    "image = Image.open(io.BytesIO(image))\n",
    "image = image.convert(\"RGBA\")\n",
    "\n",
    "# change background to white\n",
    "background = Image.new(image.mode[:-1], image.size, (255, 255, 255))\n",
    "background.paste(image, image.split()[-1]) \n",
    "image = background\n",
    "\n",
    "# convert back to jpeg\n",
    "image = image.convert('RGB')\n",
    "image.save(output_image, 'JPEG')"
   ]
  }
 ],
 "metadata": {
  "kernelspec": {
   "display_name": "Python 3.10.6 ('venv': venv)",
   "language": "python",
   "name": "python3"
  },
  "language_info": {
   "codemirror_mode": {
    "name": "ipython",
    "version": 3
   },
   "file_extension": ".py",
   "mimetype": "text/x-python",
   "name": "python",
   "nbconvert_exporter": "python",
   "pygments_lexer": "ipython3",
   "version": "3.10.6"
  },
  "orig_nbformat": 4,
  "vscode": {
   "interpreter": {
    "hash": "7a2131d6c8da673ad02d9420f933010744b1b992e4a2fc8b9ee987ddbacdfcfc"
   }
  }
 },
 "nbformat": 4,
 "nbformat_minor": 2
}
